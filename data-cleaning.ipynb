{
 "cells": [
  {
   "cell_type": "markdown",
   "metadata": {},
   "source": [
    "## Data Preprocessing"
   ]
  },
  {
   "cell_type": "code",
   "execution_count": 5,
   "metadata": {},
   "outputs": [
    {
     "name": "stdout",
     "output_type": "stream",
     "text": [
      "Converting _MG_0996.CR2\n",
      "Converting _MG_0997.CR2\n",
      "Converting _MG_0998.CR2\n",
      "Converting _MG_0999.CR2\n",
      "Converting _MG_1000.CR2\n",
      "Converting _MG_1001.CR2\n",
      "Converting _MG_1003.CR2\n",
      "Converting _MG_1004.CR2\n",
      "Converting _MG_1005.CR2\n",
      "Converting _MG_1006.CR2\n",
      "Converting _MG_1007.CR2\n",
      "Converting _MG_1008.CR2\n",
      "Converting _MG_1009.CR2\n",
      "Converting _MG_1010.CR2\n",
      "Converting _MG_1011.CR2\n",
      "Converting _MG_1012.CR2\n",
      "Converting _MG_1013.CR2\n",
      "Converting _MG_1014.CR2\n",
      "Converting _MG_1015.CR2\n",
      "Converting _MG_1016.CR2\n",
      "Converting _MG_1017.CR2\n",
      "Converting _MG_1018.CR2\n",
      "Converting _MG_1019.CR2\n",
      "Converting _MG_1020.CR2\n"
     ]
    }
   ],
   "source": [
    "#convert images to jpg\n",
    "import rawpy\n",
    "import imageio\n",
    "import os\n",
    "\n",
    "input_path = \"TEMP 2025-01-22 -- pcb pictures for tiffany\"\n",
    "output_path = \"PCB Images\"\n",
    "\n",
    "os.makedirs(output_path, exist_ok=True)\n",
    "\n",
    "#convert each CR2 file to png\n",
    "for file in os.listdir(input_path):\n",
    "    if file.endswith(\".CR2\"):\n",
    "        print(\"Converting\", file)\n",
    "        cr2_path = os.path.join(input_path, file)\n",
    "        output_folder = os.path.join(output_path, os.path.splitext(file)[0] + \".png\")\n",
    "        with rawpy.imread(cr2_path) as raw:\n",
    "            rgb = raw.postprocess() # Postprocess the image into RGB\n",
    "        \n",
    "        imageio.imwrite(output_folder, rgb) #save as PNG\n"
   ]
  },
  {
   "cell_type": "code",
   "execution_count": 42,
   "metadata": {},
   "outputs": [
    {
     "name": "stdout",
     "output_type": "stream",
     "text": [
      "Width: 5202, Height: 3464, Channels: 3\n"
     ]
    }
   ],
   "source": [
    "import cv2\n",
    "\n",
    "def check_image_dimensions(image_path):\n",
    "    # Read the image\n",
    "    image = cv2.imread(image_path)\n",
    "    if image is None:\n",
    "        raise ValueError(\"Image not found or unable to read\")\n",
    "\n",
    "    # Get the dimensions of the image\n",
    "    height, width, channels = image.shape\n",
    "\n",
    "    # Print the dimensions\n",
    "    print(f\"Width: {width}, Height: {height}, Channels: {channels}\")\n",
    "\n",
    "# Example usage\n",
    "check_image_dimensions('PCB Images/nodefects_54.png')"
   ]
  },
  {
   "cell_type": "markdown",
   "metadata": {},
   "source": [
    "# Crop images and save to folder so that its focused on PCB only"
   ]
  },
  {
   "cell_type": "code",
   "execution_count": 59,
   "metadata": {},
   "outputs": [],
   "source": [
    "import cv2\n",
    "\n",
    "def crop_image(image, x, y, width, height):\n",
    "    # Crop the image to the specified size\n",
    "    cropped_image = image[y:y+height, x:x+width]\n",
    "    return cropped_image\n",
    "\n",
    "def resize_image(image, max_width=800, max_height=600):\n",
    "    height, width = image.shape[:2]\n",
    "    scaling_factor = min(max_width / width, max_height / height)\n",
    "    new_size = (int(width * scaling_factor), int(height * scaling_factor))\n",
    "    return cv2.resize(image, new_size, interpolation=cv2.INTER_AREA)\n",
    "\n",
    "image = cv2.imread('PCB Images/nodefects_54.png')\n",
    "# Example usage\n",
    "cropped_image = crop_image(image, 800, 500, 3500, 2300)\n",
    "\n",
    "# Resize the cropped image for display\n",
    "resized_image = resize_image(cropped_image)\n",
    "\n",
    "# Save resized cropped image\n",
    "cv2.imwrite('resized_cropped_image2.png', resized_image)\n",
    "\n",
    "# Display the resized cropped image\n",
    "cv2.imshow('Cropped Image', resized_image)\n",
    "cv2.waitKey(0)\n",
    "cv2.destroyAllWindows()"
   ]
  },
  {
   "cell_type": "code",
   "execution_count": 6,
   "metadata": {},
   "outputs": [],
   "source": [
    "import cv2\n",
    "import numpy as np\n",
    "\n",
    "# Load the image\n",
    "image_path = \"PCB Images/nodefects_2.png\"\n",
    "image = cv2.imread(image_path)\n",
    "\n",
    "# Resize function to maintain aspect ratio\n",
    "def resize_image(image, max_width=800, max_height=600):\n",
    "    height, width = image.shape[:2]\n",
    "    scaling_factor = min(max_width / width, max_height / height)\n",
    "    new_size = (int(width * scaling_factor), int(height * scaling_factor))\n",
    "    return cv2.resize(image, new_size, interpolation=cv2.INTER_AREA)\n",
    "\n",
    "# Convert to grayscale\n",
    "gray = cv2.cvtColor(image, cv2.COLOR_BGR2GRAY)\n",
    "\n",
    "# Apply Gaussian Blur to reduce noise\n",
    "blurred = cv2.GaussianBlur(gray, (5, 5), 0)\n",
    "\n",
    "# Apply Canny edge detection\n",
    "edges = cv2.Canny(blurred, 50, 150)\n",
    "\n",
    "# Find contours\n",
    "contours, _ = cv2.findContours(edges, cv2.RETR_EXTERNAL, cv2.CHAIN_APPROX_SIMPLE)\n",
    "\n",
    "# Draw contours on the original image\n",
    "cv2.drawContours(image, contours, -1, (0, 255, 0), 5)  # Green outline\n",
    "\n",
    "# Resize image for display\n",
    "resized_image = resize_image(image)\n",
    "\n",
    "# Display the result\n",
    "cv2.imshow(\"Detected PCB Outline\", resized_image)\n",
    "cv2.waitKey(0)  # Wait for a key press to close\n",
    "cv2.destroyAllWindows()\n"
   ]
  }
 ],
 "metadata": {
  "kernelspec": {
   "display_name": "myenv",
   "language": "python",
   "name": "python3"
  },
  "language_info": {
   "codemirror_mode": {
    "name": "ipython",
    "version": 3
   },
   "file_extension": ".py",
   "mimetype": "text/x-python",
   "name": "python",
   "nbconvert_exporter": "python",
   "pygments_lexer": "ipython3",
   "version": "3.12.1"
  }
 },
 "nbformat": 4,
 "nbformat_minor": 2
}
